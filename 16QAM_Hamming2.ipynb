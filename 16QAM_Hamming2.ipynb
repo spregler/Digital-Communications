{
  "nbformat": 4,
  "nbformat_minor": 0,
  "metadata": {
    "colab": {
      "name": "16QAM_Hamming2",
      "provenance": [],
      "collapsed_sections": [],
      "authorship_tag": "ABX9TyOnYzwmRTXOVlMRbKg8yf7P",
      "include_colab_link": true
    },
    "kernelspec": {
      "name": "python3",
      "display_name": "Python 3"
    },
    "language_info": {
      "name": "python"
    }
  },
  "cells": [
    {
      "cell_type": "markdown",
      "metadata": {
        "id": "view-in-github",
        "colab_type": "text"
      },
      "source": [
        "<a href=\"https://colab.research.google.com/github/spregler/Digital-Communications/blob/main/16QAM_Hamming2.ipynb\" target=\"_parent\"><img src=\"https://colab.research.google.com/assets/colab-badge.svg\" alt=\"Open In Colab\"/></a>"
      ]
    },
    {
      "cell_type": "code",
      "execution_count": 20,
      "metadata": {
        "id": "aPdfk27vh0BH",
        "colab": {
          "base_uri": "https://localhost:8080/",
          "height": 53
        },
        "outputId": "2c27bdc0-05a3-4ac2-b3f5-ab71619faa4d"
      },
      "outputs": [
        {
          "output_type": "execute_result",
          "data": {
            "text/plain": [
              "' Simulation of Gray coded 16-QAM \\n    1) Generate random bitstream that represents encoded source symbols\\n    2a) Modulate binary codewords using a Gray Code\\n    2b) Modulate binary codewords using a (7,4) Hamming Code\\n    3a) Pass Gray Code through a Gaussian channel with power = \\n    3b) Pass Hamming Code through the same channel\\n    4) Demodulate signals using hard-decision regions\\n    5) Compare BER \\n'"
            ],
            "application/vnd.google.colaboratory.intrinsic+json": {
              "type": "string"
            }
          },
          "metadata": {},
          "execution_count": 20
        }
      ],
      "source": [
        "import numpy as np\n",
        "import pandas as pd\n",
        "from functools import reduce\n",
        "import matplotlib.pyplot as plt\n",
        "\n",
        "''' Simulation of Gray coded 16-QAM \n",
        "    1) Generate random bitstream that represents encoded source symbols\n",
        "    2a) Modulate binary codewords using a Gray Code\n",
        "    2b) Modulate binary codewords using a (7,4) Hamming Code\n",
        "    3a) Pass Gray Code through a Gaussian channel with power = 1/5\n",
        "    3b) Pass Hamming Code through the same channel\n",
        "    4) Demodulate signals using hard-decision regions\n",
        "    5) Compare BER \n",
        "'''"
      ]
    },
    {
      "cell_type": "code",
      "source": [
        "''' 1) Generate random bitstream that represents encoded source symbols '''\n",
        "\n",
        "NUM_BITS = 7000\n",
        "M = 16\n",
        "k = 4\n",
        "NUM_SYMBOLS = NUM_BITS//k\n",
        "np.random.seed = 42\n",
        "\n",
        "# Create binary array of size num_bits\n",
        "BIT_SEQ = np.random.randint(2, size=NUM_BITS)\n",
        "\n",
        "# Create LUT used for modulating siganl. The result of divmod is used to index the LUT in such a way that adjacent signals differ by only 1 bit.\n",
        "LUT = np.array([-3, -1, 3, 1])"
      ],
      "metadata": {
        "id": "x8Jjf8xzh8GX"
      },
      "execution_count": 21,
      "outputs": []
    },
    {
      "cell_type": "code",
      "source": [
        "''' 2a) Modulate binary codewords using a Gray Code '''\n",
        "\n",
        "def Gray(arr):\n",
        "  # Group bit sequence into groups of 4 using a matrix where each row corresponds to a codeword\n",
        "  codewords = np.reshape(arr, (NUM_BITS//k, k))\n",
        "  # Convert from binary to decimal\n",
        "  codewords_dec = codewords.dot(1 << np.arange(codewords.shape[-1] - 1, -1, -1))\n",
        "\n",
        "  (x,y) = np.divmod(codewords_dec, 4)\n",
        "\n",
        "  R = LUT[x] # Real component\n",
        "  I = LUT[y] # Imaginary component\n",
        "\n",
        "  signal = R+1j*I\n",
        "\n",
        "  return signal"
      ],
      "metadata": {
        "id": "c1MPea8xdBl2"
      },
      "execution_count": 22,
      "outputs": []
    },
    {
      "cell_type": "code",
      "source": [
        "''' 2b) Modulate binary codewords using a (7,4) Hamming code '''\n",
        "\n",
        "# Define Parity matrix\n",
        "p1 = np.array([[0, 1, 1, 1]]).T\n",
        "p2 = np.array([[1, 0, 1, 1]]).T\n",
        "p3 = np.array([[1, 1, 0, 1]]).T\n",
        "P = np.concatenate((p1, p2, p3), axis=1)\n",
        "\n",
        "\n",
        "def encode(message):\n",
        "\t# Define Generator Matrix\n",
        "\tG = np.concatenate((P, np.eye(4)), axis=1)\n",
        "\t# Encode message using U=mG\n",
        "\tcodeword = []\n",
        "\tfor col in range(G.shape[1]):\n",
        "\t\tcodeword.append(int(message.dot(G[:,col]) % 2 ))\n",
        "\t\n",
        "\treturn codeword\n",
        "\n",
        "\n",
        "def hamming_decode(received):\n",
        "\t# Define the check matrix H\n",
        "\tH = np.concatenate((np.eye(3), P.T), axis=1)\n",
        "\t# Define the syndrome \n",
        "\tsyndrome = []\n",
        "\tfor col in range(H.T.shape[1]):\n",
        "\t\tsyndrome.append(int(received.dot(H.T[:, col]) % 2))\n",
        "\n",
        "\t''' If the syndrome is all 0s, then the recived message is a valid codeword. Because of the one-to-one correspondence \n",
        "\tbetween correctable error patterns and syndromes. '''\n",
        "\tif np.any(syndrome):\n",
        "\t\tloc = reduce(lambda a,b: 2*a+b, syndrome)-1\n",
        "\t\tvalid_codeword = np.copy(received) \n",
        "\t\tvalid_codeword[int(loc)] = (valid_codeword[int(loc)] + 1) % 2\n",
        "\t\tprint(\"Received: \", received, \"Corrected: \", valid_codeword)\n",
        "\t\treturn valid_codeword\n",
        "\n",
        "\telse: \n",
        "\t\treturn received\n",
        "\n",
        "\n",
        "def Hamming(arr):\n",
        "  # Group bit sequence into groups of 4 using a matrix where each row corresponds to a codeword\n",
        "  message = np.reshape(arr, (NUM_BITS//k, k))\n",
        "  # Iterate through each row of matrix, encoding each 4-bit codeword\n",
        "  temp = [] \n",
        "  for row in message:\n",
        "    temp.append(encode(np.array(row)))\n",
        "  # Result is a matrix  where each row corresponds to a 7-bit Hamming code\n",
        "  codewords = np.array(temp)\n",
        "\n",
        "  # Convert from binary to decimal\n",
        "  codewords_dec = codewords.dot(1 << np.arange(codewords.shape[-1] - 1, -1, -1))\n",
        "\n",
        "  ''' Implement Pregler modulation '''\n",
        "  # Here, x and y are the quotient and remainder of each 7-bit codeword divided by 8\n",
        "  (x,y) = np.divmod(codewords_dec, 8)\n",
        "  \n",
        "  # For each 7-bit codeword, the result of dividing by 8 is equal to \n",
        "  x = np.floor(x/4).astype(int)\n",
        "  y = np.floor(y/2).astype(int)\n",
        "\n",
        "  # Modulate using LUTs\n",
        "  R = LUT[x]\n",
        "  I = LUT[y]\n",
        "  signal = R+1j*I\n",
        "\n",
        "  return signal"
      ],
      "metadata": {
        "id": "Wvq3xjs4iALf"
      },
      "execution_count": 30,
      "outputs": []
    },
    {
      "cell_type": "code",
      "source": [
        "''' Disregard this cell for now '''\n",
        "# if __name__ == '__main__':\n",
        "# \tlistNums = [0,1,2,3,4,5,6,7,8,9,10,11,12,13,14,15]\n",
        "# \tcodeWords = []\n",
        "\n",
        "# # Quick test for Seth\n",
        "# \tfor i in listNums:\n",
        "# \t\tres = [int(j) for j in list('{0:04b}'.format(listNums[i]))]\n",
        "# \t\tcodeWords.append(res)\n",
        "\t\n",
        "# \tmessageSet = []\n",
        "# \tfor row in np.array(codeWords):\n",
        "# \t\tmessageSet.append(encode(np.array(row)))"
      ],
      "metadata": {
        "id": "E8E2wHBxvADz"
      },
      "execution_count": null,
      "outputs": []
    },
    {
      "cell_type": "code",
      "source": [
        "''' 3a) Pass Gray Code through a Gaussian channel with unit power and variance = 1/5 '''\n",
        "\n",
        "def addNoise(signal):\n",
        "  noise = (np.random.randn(NUM_SYMBOLS) + 1j*np.random.randn(NUM_SYMBOLS))/np.sqrt(5)\n",
        "  noisy_signal = signal + noise\n",
        "\n",
        "  # Plot constellation\n",
        "  plt.scatter(noisy_signal.real, noisy_signal.imag, color='blue')\n",
        "  plt.show()\n",
        "  \n",
        "  # Return statistics about symbols\n",
        "  data, counts = np.unique(signal, return_counts=True)\n",
        "  df_describe = pd.DataFrame(counts)\n",
        "  print(df_describe.describe())\n",
        "\n",
        "  return 0"
      ],
      "metadata": {
        "id": "OtwXCdELmRnb"
      },
      "execution_count": 31,
      "outputs": []
    },
    {
      "cell_type": "code",
      "source": [
        "''' 3a) Pass Gray Code through a Gaussian channel with power = 1/5 '''\n",
        "addNoise(Gray(BIT_SEQ))"
      ],
      "metadata": {
        "colab": {
          "base_uri": "https://localhost:8080/",
          "height": 439
        },
        "id": "ATg50RYmtlRV",
        "outputId": "26140535-269b-4ff3-f724-8e90c218adea"
      },
      "execution_count": 32,
      "outputs": [
        {
          "output_type": "display_data",
          "data": {
            "text/plain": [
              "<Figure size 432x288 with 1 Axes>"
            ],
            "image/png": "[encoded data removed]"
          },
          "metadata": {
            "needs_background": "light"
          }
        },
        {
          "output_type": "stream",
          "name": "stdout",
          "text": [
            "                0\n",
            "count   16.000000\n",
            "mean   109.375000\n",
            "std      9.576882\n",
            "min     98.000000\n",
            "25%    104.500000\n",
            "50%    106.000000\n",
            "75%    111.750000\n",
            "max    133.000000\n"
          ]
        },
        {
          "output_type": "execute_result",
          "data": {
            "text/plain": [
              "0"
            ]
          },
          "metadata": {},
          "execution_count": 32
        }
      ]
    },
    {
      "cell_type": "code",
      "source": [
        "''' 3b) Pass Hamming Code through the same channel '''\n",
        "addNoise(Hamming(BIT_SEQ))"
      ],
      "metadata": {
        "colab": {
          "base_uri": "https://localhost:8080/",
          "height": 439
        },
        "id": "TGOYdTPMuQie",
        "outputId": "982eb49c-dee4-4514-9c43-59f7cfe0b433"
      },
      "execution_count": 33,
      "outputs": [
        {
          "output_type": "display_data",
          "data": {
            "text/plain": [
              "<Figure size 432x288 with 1 Axes>"
            ],
            "image/png": "[encoded data removed]"
          },
          "metadata": {
            "needs_background": "light"
          }
        },
        {
          "output_type": "stream",
          "name": "stdout",
          "text": [
            "                0\n",
            "count   16.000000\n",
            "mean   109.375000\n",
            "std      9.576882\n",
            "min     98.000000\n",
            "25%    104.500000\n",
            "50%    106.000000\n",
            "75%    111.750000\n",
            "max    133.000000\n"
          ]
        },
        {
          "output_type": "execute_result",
          "data": {
            "text/plain": [
              "0"
            ]
          },
          "metadata": {},
          "execution_count": 33
        }
      ]
    },
    {
      "cell_type": "code",
      "source": [
        "# Prototype to use in correlation calculation for signal decision\n",
        "prototype_dec = np.asarray(messageSet).dot(1 << np.arange(np.asarray(messageSet).shape[-1] - 1, -1, -1))\n",
        "(w,z) = np.divmod(prototype_dec, 8)\n",
        "w = np.floor(w/4).astype(int)\n",
        "z = np.floor(z/2).astype(int)\n",
        "W = alpha[w]\n",
        "Z = alpha[z]\n",
        "prot_signal = W+1j*Z\n",
        "#\n",
        "prototype = np.array(list(zip(prot_signal.real, prot_signal.imag)))\n",
        "received = np.array(list(zip(noisySignal2.real, noisySignal2.imag)))\n",
        "# Dot product now\n",
        "dot_prod = np.dot(prototype, received.T)\n",
        "received_norm = np.linalg.norm(received, axis=1)\n",
        "prototype_norm = np.linalg.norm(prototype, axis=1)\n",
        "norm_product = np.asarray([received_norm * prototype_norm[i] for i in range(prototype_norm.shape[0])])\n",
        "\n",
        "dProduct = np.divide(dot_prod.T, norm_product.T)\n",
        "\n",
        "cosine = np.abs(1 - dProduct)\n",
        "index_min = np.argmin(cosine, axis=1)\n",
        "\n",
        "decision = prototype[index_min]\n",
        "\n",
        "correct_cnt = 0\n",
        "for idx in range(decision.shape[0]):\n",
        "  if (decision[idx][0] == signal2.real[idx]) and (decision[idx][1] == signal2.imag[idx]):\n",
        "    correct_cnt += 1\n",
        "\n",
        "SER = 1 - correct_cnt/num_symbols\n",
        "BER = SER/4\n",
        "print(SER)\n",
        "print(BER)"
      ],
      "metadata": {
        "colab": {
          "base_uri": "https://localhost:8080/"
        },
        "id": "jBLDjVhZi4ql",
        "outputId": "4dc9add4-25bf-4779-f80e-fe0eb7e89f84"
      },
      "execution_count": null,
      "outputs": [
        {
          "output_type": "stream",
          "name": "stdout",
          "text": [
            "0.25028571428571433\n",
            "0.06257142857142858\n"
          ]
        }
      ]
    },
    {
      "cell_type": "code",
      "source": [
        "# Some quick stats\n",
        "print(np.unique(signal2, return_counts=True))\n",
        "\n",
        "data, counts = np.unique(signal2, return_counts=True)\n",
        "df_describe = pd.DataFrame(counts)\n",
        "df_describe.describe()"
      ],
      "metadata": {
        "colab": {
          "base_uri": "https://localhost:8080/",
          "height": 370
        },
        "id": "H-9TkCaEkrsL",
        "outputId": "4117e5e6-075a-4b9b-d2c7-bcd976437338"
      },
      "execution_count": null,
      "outputs": [
        {
          "output_type": "stream",
          "name": "stdout",
          "text": [
            "(array([-3.-3.j, -3.-1.j, -3.+1.j, -3.+3.j, -1.-3.j, -1.-1.j, -1.+1.j,\n",
            "       -1.+3.j,  1.-3.j,  1.-1.j,  1.+1.j,  1.+3.j,  3.-3.j,  3.-1.j,\n",
            "        3.+1.j,  3.+3.j]), array([110,  97, 103, 104, 119, 124, 106, 104, 107, 110,  98, 108, 131,\n",
            "       116,  96, 117]))\n"
          ]
        },
        {
          "output_type": "execute_result",
          "data": {
            "text/plain": [
              "                0\n",
              "count   16.000000\n",
              "mean   109.375000\n",
              "std      9.851396\n",
              "min     96.000000\n",
              "25%    103.750000\n",
              "50%    107.500000\n",
              "75%    116.250000\n",
              "max    131.000000"
            ],
            "text/html": [
              "\n",
              "  <div id=\"df-295f67ae-3084-4fec-8846-4d456c3be76d\">\n",
              "    <div class=\"colab-df-container\">\n",
              "      <div>\n",
              "<style scoped>\n",
              "    .dataframe tbody tr th:only-of-type {\n",
              "        vertical-align: middle;\n",
              "    }\n",
              "\n",
              "    .dataframe tbody tr th {\n",
              "        vertical-align: top;\n",
              "    }\n",
              "\n",
              "    .dataframe thead th {\n",
              "        text-align: right;\n",
              "    }\n",
              "</style>\n",
              "<table border=\"1\" class=\"dataframe\">\n",
              "  <thead>\n",
              "    <tr style=\"text-align: right;\">\n",
              "      <th></th>\n",
              "      <th>0</th>\n",
              "    </tr>\n",
              "  </thead>\n",
              "  <tbody>\n",
              "    <tr>\n",
              "      <th>count</th>\n",
              "      <td>16.000000</td>\n",
              "    </tr>\n",
              "    <tr>\n",
              "      <th>mean</th>\n",
              "      <td>109.375000</td>\n",
              "    </tr>\n",
              "    <tr>\n",
              "      <th>std</th>\n",
              "      <td>9.851396</td>\n",
              "    </tr>\n",
              "    <tr>\n",
              "      <th>min</th>\n",
              "      <td>96.000000</td>\n",
              "    </tr>\n",
              "    <tr>\n",
              "      <th>25%</th>\n",
              "      <td>103.750000</td>\n",
              "    </tr>\n",
              "    <tr>\n",
              "      <th>50%</th>\n",
              "      <td>107.500000</td>\n",
              "    </tr>\n",
              "    <tr>\n",
              "      <th>75%</th>\n",
              "      <td>116.250000</td>\n",
              "    </tr>\n",
              "    <tr>\n",
              "      <th>max</th>\n",
              "      <td>131.000000</td>\n",
              "    </tr>\n",
              "  </tbody>\n",
              "</table>\n",
              "</div>\n",
              "      <button class=\"colab-df-convert\" onclick=\"convertToInteractive('df-295f67ae-3084-4fec-8846-4d456c3be76d')\"\n",
              "              title=\"Convert this dataframe to an interactive table.\"\n",
              "              style=\"display:none;\">\n",
              "        \n",
              "  <svg xmlns=\"http://www.w3.org/2000/svg\" height=\"24px\"viewBox=\"0 0 24 24\"\n",
              "       width=\"24px\">\n",
              "    <path d=\"M0 0h24v24H0V0z\" fill=\"none\"/>\n",
              "    <path d=\"M18.56 5.44l.94 2.06.94-2.06 2.06-.94-2.06-.94-.94-2.06-.94 2.06-2.06.94zm-11 1L8.5 8.5l.94-2.06 2.06-.94-2.06-.94L8.5 2.5l-.94 2.06-2.06.94zm10 10l.94 2.06.94-2.06 2.06-.94-2.06-.94-.94-2.06-.94 2.06-2.06.94z\"/><path d=\"M17.41 7.96l-1.37-1.37c-.4-.4-.92-.59-1.43-.59-.52 0-1.04.2-1.43.59L10.3 9.45l-7.72 7.72c-.78.78-.78 2.05 0 2.83L4 21.41c.39.39.9.59 1.41.59.51 0 1.02-.2 1.41-.59l7.78-7.78 2.81-2.81c.8-.78.8-2.07 0-2.86zM5.41 20L4 18.59l7.72-7.72 1.47 1.35L5.41 20z\"/>\n",
              "  </svg>\n",
              "      </button>\n",
              "      \n",
              "  <style>\n",
              "    .colab-df-container {\n",
              "      display:flex;\n",
              "      flex-wrap:wrap;\n",
              "      gap: 12px;\n",
              "    }\n",
              "\n",
              "    .colab-df-convert {\n",
              "      background-color: #E8F0FE;\n",
              "      border: none;\n",
              "      border-radius: 50%;\n",
              "      cursor: pointer;\n",
              "      display: none;\n",
              "      fill: #1967D2;\n",
              "      height: 32px;\n",
              "      padding: 0 0 0 0;\n",
              "      width: 32px;\n",
              "    }\n",
              "\n",
              "    .colab-df-convert:hover {\n",
              "      background-color: #E2EBFA;\n",
              "      box-shadow: 0px 1px 2px rgba(60, 64, 67, 0.3), 0px 1px 3px 1px rgba(60, 64, 67, 0.15);\n",
              "      fill: #174EA6;\n",
              "    }\n",
              "\n",
              "    [theme=dark] .colab-df-convert {\n",
              "      background-color: #3B4455;\n",
              "      fill: #D2E3FC;\n",
              "    }\n",
              "\n",
              "    [theme=dark] .colab-df-convert:hover {\n",
              "      background-color: #434B5C;\n",
              "      box-shadow: 0px 1px 3px 1px rgba(0, 0, 0, 0.15);\n",
              "      filter: drop-shadow(0px 1px 2px rgba(0, 0, 0, 0.3));\n",
              "      fill: #FFFFFF;\n",
              "    }\n",
              "  </style>\n",
              "\n",
              "      <script>\n",
              "        const buttonEl =\n",
              "          document.querySelector('#df-295f67ae-3084-4fec-8846-4d456c3be76d button.colab-df-convert');\n",
              "        buttonEl.style.display =\n",
              "          google.colab.kernel.accessAllowed ? 'block' : 'none';\n",
              "\n",
              "        async function convertToInteractive(key) {\n",
              "          const element = document.querySelector('#df-295f67ae-3084-4fec-8846-4d456c3be76d');\n",
              "          const dataTable =\n",
              "            await google.colab.kernel.invokeFunction('convertToInteractive',\n",
              "                                                     [key], {});\n",
              "          if (!dataTable) return;\n",
              "\n",
              "          const docLinkHtml = 'Like what you see? Visit the ' +\n",
              "            '<a target=\"_blank\" href=https://colab.research.google.com/notebooks/data_table.ipynb>data table notebook</a>'\n",
              "            + ' to learn more about interactive tables.';\n",
              "          element.innerHTML = '';\n",
              "          dataTable['output_type'] = 'display_data';\n",
              "          await google.colab.output.renderOutput(dataTable, element);\n",
              "          const docLink = document.createElement('div');\n",
              "          docLink.innerHTML = docLinkHtml;\n",
              "          element.appendChild(docLink);\n",
              "        }\n",
              "      </script>\n",
              "    </div>\n",
              "  </div>\n",
              "  "
            ]
          },
          "metadata": {},
          "execution_count": 104
        }
      ]
    },
    {
      "cell_type": "code",
      "source": [
        "noisySignal2 = signal2 + noise\n",
        "plt.scatter(noisySignal2.real, noisySignal2.imag, color='red')\n",
        "plt.show()"
      ],
      "metadata": {
        "colab": {
          "base_uri": "https://localhost:8080/",
          "height": 265
        },
        "id": "pu0WlVwDGPnV",
        "outputId": "99ce6b66-ca29-4dc6-84bd-0bef72c4d424"
      },
      "execution_count": null,
      "outputs": [
        {
          "output_type": "display_data",
          "data": {
            "text/plain": [
              "<Figure size 432x288 with 1 Axes>"
            ],
            "image/png": "[encoded data removed]"
          },
          "metadata": {
            "needs_background": "light"
          }
        }
      ]
    },
    {
      "cell_type": "code",
      "source": [
        "# Now for Gray #################################################################\n",
        "prototype2 = np.array([[-3, -3],\n",
        "              [-3, -1],\n",
        "              [-3, 3],\n",
        "              [-3, 1],\n",
        "              [-1, -3],\n",
        "              [-1, -1],\n",
        "              [-1, 3],\n",
        "              [-1, 1],\n",
        "              [-3, -3],\n",
        "              [3, -1],\n",
        "              [3, 3],\n",
        "              [3, 1],\n",
        "              [1, -3],\n",
        "              [1, -1],\n",
        "              [1, 3],\n",
        "              [1, 1 ]])\n",
        "\n",
        "received2 = np.array(list(zip(noisySignal.real, noisySignal.imag)))\n",
        "# Dot product now\n",
        "dot_prod2 = np.dot(prototype2, received2.T)\n",
        "received_norm2 = np.linalg.norm(received2, axis=1)\n",
        "prototype_norm2 = np.linalg.norm(prototype2, axis=1)\n",
        "norm_product2 = np.asarray([received_norm2 * prototype_norm2[i] for i in range(prototype_norm2.shape[0])])\n",
        "dProduct2 = np.divide(dot_prod2.T, norm_product2.T)"
      ],
      "metadata": {
        "id": "8PIbL-Wz4f9G"
      },
      "execution_count": null,
      "outputs": []
    },
    {
      "cell_type": "code",
      "source": [
        "cosine2 = np.abs(1 - dProduct2)\n",
        "index_min2 = np.argmin(cosine2, axis=1)\n",
        "decision2 = prototype2[index_min2]"
      ],
      "metadata": {
        "id": "u95IHEGz5LvN"
      },
      "execution_count": null,
      "outputs": []
    },
    {
      "cell_type": "code",
      "source": [
        "correct_cnt2 = 0\n",
        "for idx in range(decision2.shape[0]):\n",
        "  if (decision2[idx][0] == signal.real[idx]) and (decision2[idx][1] == signal.imag[idx]):\n",
        "    correct_cnt2 += 1\n",
        "correct_cnt2"
      ],
      "metadata": {
        "colab": {
          "base_uri": "https://localhost:8080/"
        },
        "id": "0pdHhMHs5nPm",
        "outputId": "5937b153-3612-4ee9-e474-2e2f6519c5f0"
      },
      "execution_count": null,
      "outputs": [
        {
          "output_type": "execute_result",
          "data": {
            "text/plain": [
              "1330"
            ]
          },
          "metadata": {},
          "execution_count": 120
        }
      ]
    },
    {
      "cell_type": "code",
      "source": [
        "SER_gray = 1 - correct_cnt2/num_symbols\n",
        "BER_gray = SER_gray/4\n",
        "print(SER_gray)\n",
        "print(BER_gray)"
      ],
      "metadata": {
        "colab": {
          "base_uri": "https://localhost:8080/"
        },
        "id": "VT3BfyCZ5-Mt",
        "outputId": "49064aae-3069-4bdb-b99b-86445811e917"
      },
      "execution_count": null,
      "outputs": [
        {
          "output_type": "stream",
          "name": "stdout",
          "text": [
            "0.24\n",
            "0.06\n"
          ]
        }
      ]
    },
    {
      "cell_type": "code",
      "source": [
        ""
      ],
      "metadata": {
        "id": "Z1c3b4e49DF5"
      },
      "execution_count": null,
      "outputs": []
    }
  ]
}