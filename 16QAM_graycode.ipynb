{
  "nbformat": 4,
  "nbformat_minor": 0,
  "metadata": {
    "colab": {
      "name": "16QAM_Hamming2",
      "provenance": [],
      "collapsed_sections": [],
      "authorship_tag": "ABX9TyN2fgmLoKDOnJXO8CVKTHqw",
      "include_colab_link": true
    },
    "kernelspec": {
      "name": "python3",
      "display_name": "Python 3"
    },
    "language_info": {
      "name": "python"
    }
  },
  "cells": [
    {
      "cell_type": "markdown",
      "metadata": {
        "id": "view-in-github",
        "colab_type": "text"
      },
      "source": [
        "<a href=\"https://colab.research.google.com/github/spregler/Digital-Communications/blob/main/16QAM_graycode.ipynb\" target=\"_parent\"><img src=\"https://colab.research.google.com/assets/colab-badge.svg\" alt=\"Open In Colab\"/></a>"
      ]
    },
    {
      "cell_type": "code",
      "execution_count": 218,
      "metadata": {
        "id": "aPdfk27vh0BH",
        "colab": {
          "base_uri": "https://localhost:8080/",
          "height": 70
        },
        "outputId": "cba06951-e41c-434e-d722-0648f12007ca"
      },
      "outputs": [
        {
          "output_type": "execute_result",
          "data": {
            "text/plain": [
              "' Simulation of Gray coded 16-QAM \\n    1) Generate random bitstream that represents encoded source symbols\\n    2a) Modulate binary codewords using a Gray Code\\n    2b) Modulate binary codewords using a (7,4) Hamming Code\\n    3a) Pass Gray Code through a Gaussian channel with power = 1/5\\n    3b) Pass Hamming Code through the same channel\\n    4) Decode noise corrupted signals at the receiver\\n    5) Compare BER \\n'"
            ],
            "application/vnd.google.colaboratory.intrinsic+json": {
              "type": "string"
            }
          },
          "metadata": {},
          "execution_count": 218
        }
      ],
      "source": [
        "import numpy as np\n",
        "import pandas as pd\n",
        "from functools import reduce\n",
        "import matplotlib.pyplot as plt\n",
        "\n",
        "''' Simulation of Gray coded 16-QAM \n",
        "    1) Generate random bitstream that represents encoded source symbols\n",
        "    2a) Modulate binary codewords using a Gray Code\n",
        "    2b) Modulate binary codewords using a (7,4) Hamming Code\n",
        "    3a) Pass Gray Code through a Gaussian channel with power = 1/5\n",
        "    3b) Pass Hamming Code through the same channel\n",
        "    4) Decode noise corrupted signals at the receiver\n",
        "    5) Compare BER \n",
        "'''"
      ]
    },
    {
      "cell_type": "code",
      "source": [
        "''' 1) Generate random bitstream that represents encoded source symbols '''\n",
        "\n",
        "NUM_BITS = 7000\n",
        "M = 16\n",
        "k = 4\n",
        "NUM_SYMBOLS = NUM_BITS//k\n",
        "np.random.seed = 42\n",
        "\n",
        "# Create binary array of size num_bits\n",
        "BIT_SEQ = np.random.randint(2, size=NUM_BITS)\n",
        "\n",
        "# Create LUT used for modulating siganl. The result of divmod is used to index the LUT in such a way that adjacent signals differ by only 1 bit.\n",
        "LUT = np.array([-3, -1, 3, 1])"
      ],
      "metadata": {
        "id": "x8Jjf8xzh8GX"
      },
      "execution_count": 242,
      "outputs": []
    },
    {
      "cell_type": "code",
      "source": [
        "''' 2a) Modulate binary codewords using a Gray Code '''\n",
        "\n",
        "def Gray(arr):\n",
        "  # Group bit sequence into groups of 4 using a matrix where each row corresponds to a codeword\n",
        "  codewords = np.reshape(arr, (NUM_BITS//k, k))\n",
        "  # Convert from binary to decimal\n",
        "  codewords_dec = codewords.dot(1 << np.arange(codewords.shape[-1] - 1, -1, -1))\n",
        "\n",
        "  (x,y) = np.divmod(codewords_dec, 4)\n",
        "\n",
        "  R = LUT[x] # Real component\n",
        "  I = LUT[y] # Imaginary component\n",
        "\n",
        "  signal = R+1j*I\n",
        "\n",
        "  return signal"
      ],
      "metadata": {
        "id": "c1MPea8xdBl2"
      },
      "execution_count": 243,
      "outputs": []
    },
    {
      "cell_type": "code",
      "source": [
        "''' Modulate binary codewords using arbitrary bit to symbol mapping '''\n",
        "# LUT2 = np.array([-3+1j*-3, -3+1j*-1, -3+1j*1, -3+1j*3,\n",
        "#         -1+1j*-3, -1+1j*-1, -1+1j*1, -1+1j*3,\n",
        "#         1+1j*-3, 1+1j*-1, 1+1j*1, 1+1j*3,\n",
        "#         3+1j*-3, 3+1j*-1, 3+1j*1, 3+1j*3])\n",
        "\n",
        "LUT2 = np.array([-3+1j*-3, 3+1j*3, -3+1j*-1, 3+1j*1, -3+1j*1, 3+1j*-1, -3+1j*3,\n",
        "                 3+1j*-3, -1+1j*-3, 1+1j*3, -1+1j*-1, 1+1j*1, -1+1j*1, 1+1j*-1,\n",
        "                 -1+1j*3, 1+1j*-3])\n",
        "\n",
        "def map_encode(arr):\n",
        "  # Group bit sequence into groups of 4 using a matrix where each row corresponds to a codeword\n",
        "  codewords = np.reshape(arr, (NUM_BITS//k, k))\n",
        "  # Convert from binary to decimal\n",
        "  codewords_dec = codewords.dot(1 << np.arange(codewords.shape[-1] - 1, -1, -1))\n",
        "  \n",
        "  signal = LUT2[codewords_dec]\n",
        "\n",
        "  return signal"
      ],
      "metadata": {
        "id": "1ocFDDaseJ82"
      },
      "execution_count": 260,
      "outputs": []
    },
    {
      "cell_type": "code",
      "source": [
        "''' 2b) Modulate binary codewords using a (7,4) Hamming code '''\n",
        "\n",
        "# Define Parity matrix\n",
        "p1 = np.array([[0, 1, 1, 1]]).T\n",
        "p2 = np.array([[1, 0, 1, 1]]).T\n",
        "p3 = np.array([[1, 1, 0, 1]]).T\n",
        "P = np.concatenate((p1, p2, p3), axis=1)\n",
        "\n",
        "\n",
        "def encode(message):\n",
        "\t# Define Generator Matrix\n",
        "\tG = np.concatenate((P, np.eye(4)), axis=1)\n",
        "\t# Encode message using U=mG\n",
        "\tcodeword = []\n",
        "\tfor col in range(G.shape[1]):\n",
        "\t\tcodeword.append(int(message.dot(G[:,col]) % 2 ))\n",
        "\t\n",
        "\treturn codeword\n",
        "\n",
        "\n",
        "def hamming_decode(received):\n",
        "\t# Define the check matrix H\n",
        "\tH = np.concatenate((np.eye(3), P.T), axis=1)\n",
        "\t# Define the syndrome \n",
        "\tsyndrome = []\n",
        "\tfor col in range(H.T.shape[1]):\n",
        "\t\tsyndrome.append(int(received.dot(H.T[:, col]) % 2))\n",
        "\n",
        "\t''' If the syndrome is all 0s, then the recived message is a valid codeword. Because of the one-to-one correspondence \n",
        "\tbetween correctable error patterns and syndromes. '''\n",
        "\tif np.any(syndrome):\n",
        "\t\tloc = reduce(lambda a,b: 2*a+b, syndrome)-1\n",
        "\t\tvalid_codeword = np.copy(received) \n",
        "\t\tvalid_codeword[int(loc)] = (valid_codeword[int(loc)] + 1) % 2\n",
        "\t\tprint(\"Received: \", received, \"Corrected: \", valid_codeword)\n",
        "\t\treturn valid_codeword\n",
        "\n",
        "\telse: \n",
        "\t\treturn received\n",
        "\n",
        "\n",
        "def Hamming(arr):\n",
        "  # Group bit sequence into groups of 4 using a matrix where each row corresponds to a codeword\n",
        "  message = np.reshape(arr, (NUM_BITS//k, k))\n",
        "  # Iterate through each row of matrix, encoding each 4-bit codeword\n",
        "  temp = [] \n",
        "  for row in message:\n",
        "    temp.append(encode(np.array(row)))\n",
        "  # Result is a matrix  where each row corresponds to a 7-bit Hamming code\n",
        "  codewords = np.array(temp)\n",
        "\n",
        "  # Convert from binary to decimal\n",
        "  codewords_dec = codewords.dot(1 << np.arange(codewords.shape[-1] - 1, -1, -1))\n",
        "\n",
        "  ''' Implement Pregler modulation '''\n",
        "  # Here, x and y are the quotient and remainder of each 7-bit codeword divided by 8\n",
        "  (x,y) = np.divmod(codewords_dec, 8)\n",
        "  \n",
        "  # For each 7-bit codeword, the result of dividing by 8 is equal to \n",
        "  X = np.divide(x,4).astype(int)\n",
        "  Y = np.divide(y,2).astype(int)\n",
        "\n",
        "  # Modulate using LUTs\n",
        "  R = LUT[X]\n",
        "  I = LUT[Y]\n",
        "  signal = R+1j*I\n",
        "\n",
        "  return signal"
      ],
      "metadata": {
        "id": "Wvq3xjs4iALf"
      },
      "execution_count": 261,
      "outputs": []
    },
    {
      "cell_type": "code",
      "source": [
        "''' 3a) Pass Gray Code through a Gaussian channel with unit power and variance = 1/5 '''\n",
        "\n",
        "def addNoise(signal):\n",
        "  noise = (np.random.randn(NUM_SYMBOLS) + 1j*np.random.randn(NUM_SYMBOLS))/np.sqrt(11)\n",
        "  noisy_signal = signal + noise\n",
        "\n",
        "  return signal, noisy_signal\n",
        "\n",
        "\n",
        "''' Helper function to plot constellation and printe statistics about Gaussian rv '''\n",
        "def simulate_channel(signal, noisy_signal):\n",
        "  # Plot constellation\n",
        "  plt.scatter(noisy_signal.real, noisy_signal.imag, color='blue')\n",
        "  plt.show()\n",
        "\n",
        "  # Return statistics about symbols\n",
        "  data, counts = np.unique(signal, return_counts=True)\n",
        "  df_describe = pd.DataFrame(counts)\n",
        "  print(df_describe.describe())\n",
        "\n",
        "  return 0"
      ],
      "metadata": {
        "id": "OtwXCdELmRnb"
      },
      "execution_count": 292,
      "outputs": []
    },
    {
      "cell_type": "code",
      "source": [
        "''' 3a) Pass Gray Code through a Gaussian channel with power = 1/5 '''\n",
        "gray_signal, gray_signal_awgn = addNoise(Gray(BIT_SEQ))\n",
        "simulate_channel(gray_signal, gray_signal_awgn)"
      ],
      "metadata": {
        "colab": {
          "base_uri": "https://localhost:8080/",
          "height": 439
        },
        "id": "ATg50RYmtlRV",
        "outputId": "77efbabf-e5ac-406e-eca1-2f8de5216018"
      },
      "execution_count": 293,
      "outputs": [
        {
          "output_type": "display_data",
          "data": {
            "text/plain": [
              "<Figure size 432x288 with 1 Axes>"
            ],
            "image/png": "[encoded data removed]"
          },
          "metadata": {
            "needs_background": "light"
          }
        },
        {
          "output_type": "stream",
          "name": "stdout",
          "text": [
            "               0\n",
            "count   16.00000\n",
            "mean   109.37500\n",
            "std      7.69307\n",
            "min     94.00000\n",
            "25%    103.75000\n",
            "50%    109.50000\n",
            "75%    114.50000\n",
            "max    124.00000\n"
          ]
        },
        {
          "output_type": "execute_result",
          "data": {
            "text/plain": [
              "0"
            ]
          },
          "metadata": {},
          "execution_count": 293
        }
      ]
    },
    {
      "cell_type": "code",
      "source": [
        "''' 3b) Pass Hamming Code through the same channel '''\n",
        "hamming_signal, hamming_signal_awgn = addNoise(Hamming(BIT_SEQ))\n",
        "simulate_channel(hamming_signal, hamming_signal_awgn)"
      ],
      "metadata": {
        "colab": {
          "base_uri": "https://localhost:8080/",
          "height": 439
        },
        "id": "TGOYdTPMuQie",
        "outputId": "c07b6c4d-1414-498d-b6e3-bd0d9073719f"
      },
      "execution_count": 294,
      "outputs": [
        {
          "output_type": "display_data",
          "data": {
            "text/plain": [
              "<Figure size 432x288 with 1 Axes>"
            ],
            "image/png": "[encoded data removed]"
          },
          "metadata": {
            "needs_background": "light"
          }
        },
        {
          "output_type": "stream",
          "name": "stdout",
          "text": [
            "               0\n",
            "count   16.00000\n",
            "mean   109.37500\n",
            "std      7.69307\n",
            "min     94.00000\n",
            "25%    103.75000\n",
            "50%    109.50000\n",
            "75%    114.50000\n",
            "max    124.00000\n"
          ]
        },
        {
          "output_type": "execute_result",
          "data": {
            "text/plain": [
              "0"
            ]
          },
          "metadata": {},
          "execution_count": 294
        }
      ]
    },
    {
      "cell_type": "code",
      "source": [
        "''' 3c) Pass arbitrary mapping through same channel '''\n",
        "test_signal, test_signal_awgn = addNoise(map_encode(BIT_SEQ))\n",
        "simulate_channel(test_signal, test_signal_awgn)"
      ],
      "metadata": {
        "colab": {
          "base_uri": "https://localhost:8080/",
          "height": 439
        },
        "id": "uqsUx7RbhRZB",
        "outputId": "2172c67b-503b-4d18-9f78-f025110a5701"
      },
      "execution_count": 295,
      "outputs": [
        {
          "output_type": "display_data",
          "data": {
            "text/plain": [
              "<Figure size 432x288 with 1 Axes>"
            ],
            "image/png": "[encoded data removed]"
          },
          "metadata": {
            "needs_background": "light"
          }
        },
        {
          "output_type": "stream",
          "name": "stdout",
          "text": [
            "               0\n",
            "count   16.00000\n",
            "mean   109.37500\n",
            "std      7.69307\n",
            "min     94.00000\n",
            "25%    103.75000\n",
            "50%    109.50000\n",
            "75%    114.50000\n",
            "max    124.00000\n"
          ]
        },
        {
          "output_type": "execute_result",
          "data": {
            "text/plain": [
              "0"
            ]
          },
          "metadata": {},
          "execution_count": 295
        }
      ]
    },
    {
      "cell_type": "code",
      "source": [
        "BIT_SEQ[0:4]"
      ],
      "metadata": {
        "colab": {
          "base_uri": "https://localhost:8080/"
        },
        "id": "pXa0FfNY4Ixe",
        "outputId": "a423472b-2f57-4018-d5bd-62eb30e7deee"
      },
      "execution_count": 296,
      "outputs": [
        {
          "output_type": "execute_result",
          "data": {
            "text/plain": [
              "array([0, 0, 0, 1])"
            ]
          },
          "metadata": {},
          "execution_count": 296
        }
      ]
    },
    {
      "cell_type": "code",
      "source": [
        "''' 4) Decode noise corrupted signals at the receiver '''\n",
        "\n",
        "# Gray\n",
        "def gray_receiver(signal):\n",
        "  hypothesis = []\n",
        "  for element in signal:\n",
        "    if element.real < 0:\n",
        "      if element.real < -2:\n",
        "        hypothesis.append([0,0])\n",
        "      else: \n",
        "        hypothesis.append([0,1])\n",
        "\n",
        "    elif element.real > 0:\n",
        "      if element.real > 2:\n",
        "        hypothesis.append([1,0])\n",
        "      else:\n",
        "        hypothesis.append([1,1])\n",
        "    \n",
        "    if element.imag < 0:\n",
        "      if element.imag < -2:\n",
        "        hypothesis.append([0,0])\n",
        "      else:\n",
        "        hypothesis.append([0,1])\n",
        "    \n",
        "    elif element.imag > 0:\n",
        "      if element.imag > 2:\n",
        "        hypothesis.append([1,0])\n",
        "      else:\n",
        "        hypothesis.append([1,1])\n",
        "      \n",
        "  return hypothesis\n",
        "\n",
        "test_LUT = [[0,0,0,0],[0,0,0,1],[0,0,1,0],[0,0,1,1],\n",
        "            [0,1,0,0],[0,1,0,1],[0,1,1,0],[0,1,1,1],\n",
        "            [1,0,0,0],[1,0,0,1],[1,0,1,0],[1,0,1,1],\n",
        "            [1,1,0,0],[1,1,0,1],[1,1,1,0],[1,1,1,1]]\n",
        "            \n",
        "\n",
        "# Non-Gray\n",
        "def test_receiver(signal):\n",
        "  hypothesis = []\n",
        "  for element in signal:\n",
        "    distance = np.abs(LUT2 - element)\n",
        "    temp = np.argmin(distance)\n",
        "    hypothesis.append(test_LUT[temp])\n",
        "  \n",
        "        \n",
        "  return np.array(hypothesis)\n",
        "\n",
        "#  Gray\n",
        "gray_result = np.array(gray_receiver(gray_signal_awgn)).reshape(NUM_BITS)\n",
        "gray_error_cnt = np.count_nonzero(np.bitwise_xor(gray_result, BIT_SEQ))\n",
        "gray_BER = gray_error_cnt/NUM_BITS\n",
        "print(gray_BER)\n",
        "\n",
        "\n",
        "# Non-Gray\n",
        "test_result = np.array(test_receiver(test_signal_awgn)).reshape(NUM_BITS)\n",
        "test_error_cnt = np.count_nonzero(np.bitwise_xor(test_result, BIT_SEQ))\n",
        "test_BER = test_error_cnt/NUM_BITS\n",
        "print(test_BER)"
      ],
      "metadata": {
        "colab": {
          "base_uri": "https://localhost:8080/"
        },
        "id": "wnKQi_iFD065",
        "outputId": "31c1e932-2f24-4999-ebb2-7efdfb050839"
      },
      "execution_count": 355,
      "outputs": [
        {
          "output_type": "stream",
          "name": "stdout",
          "text": [
            "0.00042857142857142855\n",
            "0.00028571428571428574\n"
          ]
        }
      ]
    },
    {
      "cell_type": "code",
      "source": [
        "def addNoise(signal, vals):\n",
        "  noise = (np.random.randn(NUM_SYMBOLS) + 1j*np.random.randn(NUM_SYMBOLS))/np.sqrt(vals)\n",
        "  noisy_signal = signal + noise\n",
        "\n",
        "  return signal, noisy_signal\n",
        "\n",
        "# Variances = {1/1, 1/2, 1/3, 1/4, 1/5, 1/6, 1/7, 1/8, 1/9, 1/10}\n",
        "variance_recip = np.arange(1,11)\n",
        "\n",
        "gray_BER_arr = []\n",
        "test_BER_arr = []\n",
        "for i in np.arange(1,11):\n",
        "  gray_signal, gray_signal_awgn = addNoise(Gray(BIT_SEQ), i)\n",
        "  test_signal, test_signal_awgn = addNoise(map_encode(BIT_SEQ), i)\n",
        "\n",
        "  #  Gray\n",
        "  gray_result = np.array(gray_receiver(gray_signal_awgn)).reshape(NUM_BITS)\n",
        "  gray_error_cnt = np.count_nonzero(np.bitwise_xor(gray_result, BIT_SEQ))\n",
        "  gray_BER_arr.append(gray_error_cnt/NUM_BITS)\n",
        "  \n",
        "  # Non-Gray\n",
        "  test_result = np.array(test_receiver(test_signal_awgn)).reshape(NUM_BITS)\n",
        "  test_error_cnt = np.count_nonzero(np.bitwise_xor(test_result, BIT_SEQ))\n",
        "  test_BER_arr.append(test_error_cnt/NUM_BITS)\n",
        "\n",
        "# Pretty plot\n",
        "fig = plt.figure()\n",
        "ax = fig.add_subplot(111)\n",
        "ax.set_title(\"BER / Var\")\n",
        "ax.set_yscale('log')\n",
        "ax.scatter(1/variance_recip, gray_BER_arr, color=\"b\", label=\"gray\")\n",
        "ax.scatter(1/variance_recip, test_BER_arr, color=\"r\", label=\"test\")\n",
        "ax.invert_xaxis()\n",
        "ax.legend()"
      ],
      "metadata": {
        "id": "yXq5vmToAhd9",
        "colab": {
          "base_uri": "https://localhost:8080/",
          "height": 298
        },
        "outputId": "f7a8dafe-60dd-4cdb-d294-5834c9e42aa8"
      },
      "execution_count": 360,
      "outputs": [
        {
          "output_type": "execute_result",
          "data": {
            "text/plain": [
              "<matplotlib.legend.Legend at 0x7f79f22a0990>"
            ]
          },
          "metadata": {},
          "execution_count": 360
        },
        {
          "output_type": "display_data",
          "data": {
            "text/plain": [
              "<Figure size 432x288 with 1 Axes>"
            ],
            "image/png": "[encoded data removed]"
          },
          "metadata": {
            "needs_background": "light"
          }
        }
      ]
    },
    {
      "cell_type": "code",
      "source": [
        "gray_BER_arr"
      ],
      "metadata": {
        "colab": {
          "base_uri": "https://localhost:8080/"
        },
        "id": "FlLSXjwtTMsZ",
        "outputId": "e8ecf9ae-a3a7-46fa-d207-bdbb53cc0886"
      },
      "execution_count": null,
      "outputs": [
        {
          "output_type": "execute_result",
          "data": {
            "text/plain": [
              "[0.11757142857142858]"
            ]
          },
          "metadata": {},
          "execution_count": 187
        }
      ]
    },
    {
      "cell_type": "code",
      "source": [
        "test_BER_arr"
      ],
      "metadata": {
        "colab": {
          "base_uri": "https://localhost:8080/"
        },
        "id": "RKRO0sgeR7X7",
        "outputId": "3e8105b0-5de6-4662-9fe8-391b02a2e173"
      },
      "execution_count": null,
      "outputs": [
        {
          "output_type": "execute_result",
          "data": {
            "text/plain": [
              "[]"
            ]
          },
          "metadata": {},
          "execution_count": 188
        }
      ]
    },
    {
      "cell_type": "code",
      "source": [
        ""
      ],
      "metadata": {
        "id": "eDzH25EeTxEf"
      },
      "execution_count": null,
      "outputs": []
    }
  ]
}