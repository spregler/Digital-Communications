{
  "nbformat": 4,
  "nbformat_minor": 0,
  "metadata": {
    "colab": {
      "name": "16QAM_Hamming2",
      "provenance": [],
      "collapsed_sections": [],
      "authorship_tag": "ABX9TyOSM16QhYT7/12SdD3y09Pn",
      "include_colab_link": true
    },
    "kernelspec": {
      "name": "python3",
      "display_name": "Python 3"
    },
    "language_info": {
      "name": "python"
    }
  },
  "cells": [
    {
      "cell_type": "markdown",
      "metadata": {
        "id": "view-in-github",
        "colab_type": "text"
      },
      "source": [
        "<a href=\"https://colab.research.google.com/github/spregler/Digital-Communications/blob/main/16QAM_Hamming2.ipynb\" target=\"_parent\"><img src=\"https://colab.research.google.com/assets/colab-badge.svg\" alt=\"Open In Colab\"/></a>"
      ]
    },
    {
      "cell_type": "code",
      "execution_count": 1,
      "metadata": {
        "id": "aPdfk27vh0BH",
        "colab": {
          "base_uri": "https://localhost:8080/",
          "height": 53
        },
        "outputId": "00d98656-4a0f-447d-b72a-502446637a54"
      },
      "outputs": [
        {
          "output_type": "execute_result",
          "data": {
            "text/plain": [
              "' Simulation of Gray coded 16-QAM \\n    1) Generate random bitstream that represents encoded source symbols\\n    2a) Modulate binary codewords using a Gray Code\\n    2b) Modulate binary codewords using a (7,4) Hamming Code\\n    3a) Pass Gray Code through a Gaussian channel with power = 1/5\\n    3b) Pass Hamming Code through the same channel\\n    4) Decode noise corrupted signals at the receiver\\n    5) Compare BER \\n'"
            ],
            "application/vnd.google.colaboratory.intrinsic+json": {
              "type": "string"
            }
          },
          "metadata": {},
          "execution_count": 1
        }
      ],
      "source": [
        "import numpy as np\n",
        "import pandas as pd\n",
        "from functools import reduce\n",
        "import matplotlib.pyplot as plt\n",
        "\n",
        "''' Simulation of Gray coded 16-QAM \n",
        "    1) Generate random bitstream that represents encoded source symbols\n",
        "    2a) Modulate binary codewords using a Gray Code\n",
        "    2b) Modulate binary codewords using a (7,4) Hamming Code\n",
        "    3a) Pass Gray Code through a Gaussian channel with power = 1/5\n",
        "    3b) Pass Hamming Code through the same channel\n",
        "    4) Decode noise corrupted signals at the receiver\n",
        "    5) Compare BER \n",
        "'''"
      ]
    },
    {
      "cell_type": "code",
      "source": [
        "''' 1) Generate random bitstream that represents encoded source symbols '''\n",
        "\n",
        "NUM_BITS = 7000\n",
        "M = 16\n",
        "k = 4\n",
        "NUM_SYMBOLS = NUM_BITS//k\n",
        "np.random.seed = 42\n",
        "\n",
        "# Create binary array of size num_bits\n",
        "BIT_SEQ = np.random.randint(2, size=NUM_BITS)\n",
        "\n",
        "# Create LUT used for modulating siganl. The result of divmod is used to index the LUT in such a way that adjacent signals differ by only 1 bit.\n",
        "LUT = np.array([-3, -1, 3, 1])"
      ],
      "metadata": {
        "id": "x8Jjf8xzh8GX"
      },
      "execution_count": 2,
      "outputs": []
    },
    {
      "cell_type": "code",
      "source": [
        "''' 2a) Modulate binary codewords using a Gray Code '''\n",
        "\n",
        "def Gray(arr):\n",
        "  # Group bit sequence into groups of 4 using a matrix where each row corresponds to a codeword\n",
        "  codewords = np.reshape(arr, (NUM_BITS//k, k))\n",
        "  # Convert from binary to decimal\n",
        "  codewords_dec = codewords.dot(1 << np.arange(codewords.shape[-1] - 1, -1, -1))\n",
        "\n",
        "  (x,y) = np.divmod(codewords_dec, 4)\n",
        "\n",
        "  R = LUT[x] # Real component\n",
        "  I = LUT[y] # Imaginary component\n",
        "\n",
        "  signal = R+1j*I\n",
        "\n",
        "  return signal"
      ],
      "metadata": {
        "id": "c1MPea8xdBl2"
      },
      "execution_count": 3,
      "outputs": []
    },
    {
      "cell_type": "code",
      "source": [
        "''' 2b) Modulate binary codewords using a (7,4) Hamming code '''\n",
        "\n",
        "# Define Parity matrix\n",
        "p1 = np.array([[0, 1, 1, 1]]).T\n",
        "p2 = np.array([[1, 0, 1, 1]]).T\n",
        "p3 = np.array([[1, 1, 0, 1]]).T\n",
        "P = np.concatenate((p1, p2, p3), axis=1)\n",
        "\n",
        "\n",
        "def encode(message):\n",
        "\t# Define Generator Matrix\n",
        "\tG = np.concatenate((P, np.eye(4)), axis=1)\n",
        "\t# Encode message using U=mG\n",
        "\tcodeword = []\n",
        "\tfor col in range(G.shape[1]):\n",
        "\t\tcodeword.append(int(message.dot(G[:,col]) % 2 ))\n",
        "\t\n",
        "\treturn codeword\n",
        "\n",
        "\n",
        "def hamming_decode(received):\n",
        "\t# Define the check matrix H\n",
        "\tH = np.concatenate((np.eye(3), P.T), axis=1)\n",
        "\t# Define the syndrome \n",
        "\tsyndrome = []\n",
        "\tfor col in range(H.T.shape[1]):\n",
        "\t\tsyndrome.append(int(received.dot(H.T[:, col]) % 2))\n",
        "\n",
        "\t''' If the syndrome is all 0s, then the recived message is a valid codeword. Because of the one-to-one correspondence \n",
        "\tbetween correctable error patterns and syndromes. '''\n",
        "\tif np.any(syndrome):\n",
        "\t\tloc = reduce(lambda a,b: 2*a+b, syndrome)-1\n",
        "\t\tvalid_codeword = np.copy(received) \n",
        "\t\tvalid_codeword[int(loc)] = (valid_codeword[int(loc)] + 1) % 2\n",
        "\t\tprint(\"Received: \", received, \"Corrected: \", valid_codeword)\n",
        "\t\treturn valid_codeword\n",
        "\n",
        "\telse: \n",
        "\t\treturn received\n",
        "\n",
        "\n",
        "def Hamming(arr):\n",
        "  # Group bit sequence into groups of 4 using a matrix where each row corresponds to a codeword\n",
        "  message = np.reshape(arr, (NUM_BITS//k, k))\n",
        "  # Iterate through each row of matrix, encoding each 4-bit codeword\n",
        "  temp = [] \n",
        "  for row in message:\n",
        "    temp.append(encode(np.array(row)))\n",
        "  # Result is a matrix  where each row corresponds to a 7-bit Hamming code\n",
        "  codewords = np.array(temp)\n",
        "\n",
        "  # Convert from binary to decimal\n",
        "  codewords_dec = codewords.dot(1 << np.arange(codewords.shape[-1] - 1, -1, -1))\n",
        "\n",
        "  ''' Implement Pregler modulation '''\n",
        "  # Here, x and y are the quotient and remainder of each 7-bit codeword divided by 8\n",
        "  (x,y) = np.divmod(codewords_dec, 8)\n",
        "  \n",
        "  # For each 7-bit codeword, the result of dividing by 8 is equal to \n",
        "  X = np.divide(x,4).astype(int)\n",
        "  Y = np.divide(y,2).astype(int)\n",
        "\n",
        "  # Modulate using LUTs\n",
        "  R = LUT[X]\n",
        "  I = LUT[Y]\n",
        "  signal = R+1j*I\n",
        "\n",
        "  return signal"
      ],
      "metadata": {
        "id": "Wvq3xjs4iALf"
      },
      "execution_count": 4,
      "outputs": []
    },
    {
      "cell_type": "code",
      "source": [
        "''' 3a) Pass Gray Code through a Gaussian channel with unit power and variance = 1/5 '''\n",
        "\n",
        "def addNoise(signal):\n",
        "  noise = (np.random.randn(NUM_SYMBOLS) + 1j*np.random.randn(NUM_SYMBOLS))/np.sqrt(2)\n",
        "  noisy_signal = signal + noise\n",
        "\n",
        "  return signal, noisy_signal\n",
        "\n",
        "\n",
        "''' Helper function to plot constellation and printe statistics about Gaussian rv '''\n",
        "def simulate_channel(signal, noisy_signal):\n",
        "  # Plot constellation\n",
        "  plt.scatter(noisy_signal.real, noisy_signal.imag, color='blue')\n",
        "  plt.show()\n",
        "\n",
        "  # Return statistics about symbols\n",
        "  data, counts = np.unique(signal, return_counts=True)\n",
        "  df_describe = pd.DataFrame(counts)\n",
        "  print(df_describe.describe())\n",
        "\n",
        "  return 0"
      ],
      "metadata": {
        "id": "OtwXCdELmRnb"
      },
      "execution_count": 109,
      "outputs": []
    },
    {
      "cell_type": "code",
      "source": [
        "''' 3a) Pass Gray Code through a Gaussian channel with power = 1/5 '''\n",
        "gray_signal, gray_signal_awgn = addNoise(Gray(BIT_SEQ))\n",
        "simulate_channel(gray_signal, gray_signal_awgn)"
      ],
      "metadata": {
        "colab": {
          "base_uri": "https://localhost:8080/",
          "height": 439
        },
        "id": "ATg50RYmtlRV",
        "outputId": "1d217350-64b4-44bc-beb1-1648ced52a95"
      },
      "execution_count": 110,
      "outputs": [
        {
          "output_type": "display_data",
          "data": {
            "text/plain": [
              "<Figure size 432x288 with 1 Axes>"
            ],
            "image/png": "[encoded data removed]"
          },
          "metadata": {
            "needs_background": "light"
          }
        },
        {
          "output_type": "stream",
          "name": "stdout",
          "text": [
            "                0\n",
            "count   16.000000\n",
            "mean   109.375000\n",
            "std      8.301606\n",
            "min     96.000000\n",
            "25%    104.750000\n",
            "50%    110.000000\n",
            "75%    114.250000\n",
            "max    127.000000\n"
          ]
        },
        {
          "output_type": "execute_result",
          "data": {
            "text/plain": [
              "0"
            ]
          },
          "metadata": {},
          "execution_count": 110
        }
      ]
    },
    {
      "cell_type": "code",
      "source": [
        "''' 3b) Pass Hamming Code through the same channel '''\n",
        "hamming_signal, hamming_signal_awgn = addNoise(Hamming(BIT_SEQ))\n",
        "simulate_channel(hamming_signal, hamming_signal_awgn)"
      ],
      "metadata": {
        "colab": {
          "base_uri": "https://localhost:8080/",
          "height": 439
        },
        "id": "TGOYdTPMuQie",
        "outputId": "cf12416b-b1ab-4fa8-81dd-90529ada9287"
      },
      "execution_count": 111,
      "outputs": [
        {
          "output_type": "display_data",
          "data": {
            "text/plain": [
              "<Figure size 432x288 with 1 Axes>"
            ],
            "image/png": "[encoded data removed]"
          },
          "metadata": {
            "needs_background": "light"
          }
        },
        {
          "output_type": "stream",
          "name": "stdout",
          "text": [
            "                0\n",
            "count   16.000000\n",
            "mean   109.375000\n",
            "std      8.301606\n",
            "min     96.000000\n",
            "25%    104.750000\n",
            "50%    110.000000\n",
            "75%    114.250000\n",
            "max    127.000000\n"
          ]
        },
        {
          "output_type": "execute_result",
          "data": {
            "text/plain": [
              "0"
            ]
          },
          "metadata": {},
          "execution_count": 111
        }
      ]
    },
    {
      "cell_type": "code",
      "source": [
        "gray_signal_awgn.shape"
      ],
      "metadata": {
        "colab": {
          "base_uri": "https://localhost:8080/"
        },
        "id": "pXa0FfNY4Ixe",
        "outputId": "c001d616-b3f1-46e7-ef04-c5b83d98d1fc"
      },
      "execution_count": 112,
      "outputs": [
        {
          "output_type": "execute_result",
          "data": {
            "text/plain": [
              "(1750,)"
            ]
          },
          "metadata": {},
          "execution_count": 112
        }
      ]
    },
    {
      "cell_type": "code",
      "source": [
        "''' 4) Decode noise corrupted signals at the receiver '''\n",
        "''' Can't get trig to work '''\n",
        "\n",
        "# Gray\n",
        "hypothesis = []\n",
        "def receiver(signal):\n",
        "  for element in signal:\n",
        "    if element.real < 0:\n",
        "      if element.real < -2:\n",
        "        hypothesis.append([0,0])\n",
        "      else: \n",
        "        hypothesis.append([0,1])\n",
        "\n",
        "    elif element.real > 0:\n",
        "      if element.real > 2:\n",
        "        hypothesis.append([1,0])\n",
        "      else:\n",
        "        hypothesis.append([1,1])\n",
        "    \n",
        "    if element.imag < 0:\n",
        "      if element.imag < -2:\n",
        "        hypothesis.append([0,0])\n",
        "      else:\n",
        "        hypothesis.append([0,1])\n",
        "    \n",
        "    elif element.imag > 0:\n",
        "      if element.imag > 2:\n",
        "        hypothesis.append([1,0])\n",
        "      else:\n",
        "        hypothesis.append([1,1])\n",
        "      \n",
        "  return hypothesis\n",
        "\n",
        "\n",
        "result = np.array(receiver(gray_signal_awgn)).reshape(NUM_BITS)\n",
        "error_cnt = np.count_nonzero(np.bitwise_xor(result, BIT_SEQ))\n",
        "BER = error_cnt/NUM_BITS\n",
        "print(BER)"
      ],
      "metadata": {
        "colab": {
          "base_uri": "https://localhost:8080/"
        },
        "id": "wnKQi_iFD065",
        "outputId": "5f0ca30b-4ca8-4185-f3fd-e80d0675dd97"
      },
      "execution_count": 115,
      "outputs": [
        {
          "output_type": "stream",
          "name": "stdout",
          "text": [
            "0.057428571428571426\n"
          ]
        }
      ]
    },
    {
      "cell_type": "code",
      "source": [
        "''' Trying to get trig to work '''\n",
        "listNums = [0,1,2,3,4,5,6,7,8,9,10,11,12,13,14,15]\n",
        "temp = []\n",
        "\n",
        "for i in listNums:\n",
        "\t\tres = [int(j) for j in list('{0:04b}'.format(listNums[i]))]\n",
        "\t\ttemp.append(res)\n",
        "\t\n",
        "messageSet = []\n",
        "for row in np.array(temp):\n",
        "  messageSet.append(encode(np.array(row)))\n",
        "\n",
        "# Prototype to use in correlation calculation for signal decision\n",
        "prototype_dec = np.asarray(messageSet).dot(1 << np.arange(np.asarray(messageSet).shape[-1] - 1, -1, -1))\n",
        "(w,z) = np.divmod(prototype_dec, 8)\n",
        "w = np.divide(w,4).astype(int)\n",
        "z = np.divide(z,2).astype(int)\n",
        "W = LUT[w]\n",
        "Z = LUT[z]\n",
        "prot_signal = W+1j*Z\n",
        "#\n",
        "prototype = np.array(list(zip(prot_signal.real, prot_signal.imag)))\n",
        "received = np.array(list(zip(hamming_signal_awgn.real, hamming_signal_awgn.imag)))\n",
        "# Dot product now\n",
        "dot_prod = np.dot(prototype, received.T)\n",
        "received_norm = np.linalg.norm(received, axis=1)\n",
        "prototype_norm = np.linalg.norm(prototype, axis=1)\n",
        "norm_product = np.asarray([received_norm * prototype_norm[i] for i in range(prototype_norm.shape[0])])\n",
        "\n",
        "dProduct = np.divide(dot_prod.T, norm_product.T)\n",
        "\n",
        "cosine = np.abs(1 - dProduct)\n",
        "index_min = np.argmin(cosine, axis=1)\n",
        "\n",
        "decision = prototype[index_min]\n",
        "\n",
        "correct_cnt = 0\n",
        "for idx in range(decision.shape[0]):\n",
        "  if (decision[idx][0] == hamming_signal.real[idx]) and (decision[idx][1] == hamming_signal.imag[idx]):\n",
        "    correct_cnt += 1\n",
        "\n",
        "SER = 1 - correct_cnt/NUM_SYMBOLS\n",
        "BER = SER/4\n",
        "print(SER)\n",
        "print(BER)\n",
        "print(decision.shape)\n",
        "print(hamming_signal.shape)"
      ],
      "metadata": {
        "colab": {
          "base_uri": "https://localhost:8080/"
        },
        "id": "jBLDjVhZi4ql",
        "outputId": "02dd3b02-1248-4768-f0a5-c2ae17f7ed98"
      },
      "execution_count": 114,
      "outputs": [
        {
          "output_type": "stream",
          "name": "stdout",
          "text": [
            "0.44285714285714284\n",
            "0.11071428571428571\n",
            "(1750, 2)\n",
            "(1750,)\n"
          ]
        }
      ]
    },
    {
      "cell_type": "code",
      "source": [
        ""
      ],
      "metadata": {
        "id": "yXq5vmToAhd9"
      },
      "execution_count": null,
      "outputs": []
    }
  ]
}